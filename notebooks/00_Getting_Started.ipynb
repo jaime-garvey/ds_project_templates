{
 "cells": [
  {
   "cell_type": "markdown",
   "metadata": {},
   "source": [
    "# [Project Name]\n",
    "\n",
    "**Getting Started**  |  Data Prep  |  Data Exploration  |  Preprocessing  |  Model Tuning  |  Final Model"
   ]
  },
  {
   "cell_type": "markdown",
   "metadata": {},
   "source": [
    "## Understanding the Problem\n",
    "\n",
    "[Background info here]\n",
    "\n",
    "### Problem Statement\n",
    "> [Question Here]\n",
    "\n",
    "### Objectives\n",
    "* 1\n",
    "* 2"
   ]
  },
  {
   "cell_type": "markdown",
   "metadata": {},
   "source": [
    "## Data\n",
    "### Target\n",
    "> \n",
    "\n",
    "### Features (Columns)\n",
    "\n",
    "### Size of Data"
   ]
  },
  {
   "cell_type": "markdown",
   "metadata": {},
   "source": [
    "## Organization\n",
    "\n",
    "* Notebooks\n",
    "* Data\n",
    "    - Raw\n",
    "    - Processed\n",
    "* Modules\n",
    "    - ```helpers.py```\n"
   ]
  },
  {
   "cell_type": "markdown",
   "metadata": {},
   "source": []
  }
 ],
 "metadata": {
  "kernelspec": {
   "display_name": "Python [conda env:general]",
   "language": "python",
   "name": "conda-env-general-py"
  },
  "language_info": {
   "codemirror_mode": {
    "name": "ipython",
    "version": 2
   },
   "file_extension": ".py",
   "mimetype": "text/x-python",
   "name": "python",
   "nbconvert_exporter": "python",
   "pygments_lexer": "ipython2",
   "version": "2.7.15"
  }
 },
 "nbformat": 4,
 "nbformat_minor": 2
}
